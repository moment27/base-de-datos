{
 "cells": [
  {
   "cell_type": "code",
   "execution_count": 1,
   "id": "38c068bb",
   "metadata": {
    "execution": {
     "iopub.execute_input": "2025-04-25T02:04:31.812328Z",
     "iopub.status.busy": "2025-04-25T02:04:31.811689Z",
     "iopub.status.idle": "2025-04-25T02:04:31.820050Z",
     "shell.execute_reply": "2025-04-25T02:04:31.817886Z"
    }
   },
   "outputs": [],
   "source": [
    "def Limpiar_USER():\n",
    "    global ingr_user_text\n",
    "    ingr_user_text.delete(0,\"end\")\n",
    "\n",
    "def Limpiar_NEW_PSW():\n",
    "    global ingr_new_psw_text\n",
    "    ingr_new_psw_text.delete(0,\"end\")\n",
    "    \n",
    "def Limpiar_RPT_NEW_PSW():\n",
    "    global ingr_dnv_new_psw_text\n",
    "    ingr_dnv_new_psw_text.delete(0,\"end\")    \n"
   ]
  },
  {
   "cell_type": "code",
   "execution_count": 2,
   "id": "2c749307",
   "metadata": {
    "execution": {
     "iopub.execute_input": "2025-04-25T02:04:31.824650Z",
     "iopub.status.busy": "2025-04-25T02:04:31.824212Z",
     "iopub.status.idle": "2025-04-25T02:04:40.081592Z",
     "shell.execute_reply": "2025-04-25T02:04:40.080161Z"
    }
   },
   "outputs": [],
   "source": [
    "import customtkinter as ctk\n",
    "from PIL import Image\n",
    "\n",
    "\n",
    "ventana_olv_psw=ctk.CTk()\n",
    "ventana_olv_psw.title(\"Olvidar Contraseña\")\n",
    "ventana_olv_psw.geometry(\"620x620+740+90\")\n",
    "ventana_olv_psw.resizable(False,False)\n",
    "\n",
    "\n",
    "titulo=ctk.CTkLabel(ventana_olv_psw,text=\"Olvidar Contraseña\",font=(\"Ubuntu\",42))\n",
    "titulo.place(x=87)\n",
    "\n",
    "img_titulo=Image.open(\"rest_psw.png\")\n",
    "titulo_ctk=ctk.CTkImage(dark_image=img_titulo,size=(75,75))\n",
    "lg_titulo=ctk.CTkLabel(ventana_olv_psw,image=titulo_ctk,text=\"\")\n",
    "lg_titulo.place(x=454,y=-7)\n",
    "\n",
    "\n",
    "\n",
    "\n",
    "ingr_user=ctk.CTkLabel(ventana_olv_psw,text=\"Ingresa usuario:\",font=(\"Ubuntu\",30))\n",
    "ingr_user.place(x=64,y=120)\n",
    "ingr_user_text=ctk.CTkEntry(ventana_olv_psw,font=(\"Ubuntu\",23),width=200)\n",
    "ingr_user_text.place(x=289,y=120)\n",
    "\n",
    "\n",
    "img_tash=Image.open(\"tash.png\")\n",
    "tash_ctk=ctk.CTkImage(dark_image=img_tash,size=(30,30))\n",
    "tash=ctk.CTkButton(ventana_olv_psw,image=tash_ctk,text=\"\",width=40,fg_color=\"#242424\",hover_color=\"#a5a4a4\",command=Limpiar_USER)\n",
    "tash.place(x=497,y=118)\n",
    "\n",
    "ingr_new_psw=ctk.CTkLabel(ventana_olv_psw,text=\"Contraseña nueva:\",font=(\"Ubuntu\",30))\n",
    "ingr_new_psw.place(x=27,y=210)\n",
    "ingr_new_psw_text=ctk.CTkEntry(ventana_olv_psw,font=(\"Ubuntu\",23),width=200)\n",
    "ingr_new_psw_text.place(x=289,y=210)\n",
    "\n",
    "\n",
    "tash1=ctk.CTkButton(ventana_olv_psw,image=tash_ctk,text=\"\",width=40,fg_color=\"#242424\",hover_color=\"#a5a4a4\",command=Limpiar_NEW_PSW)\n",
    "tash1.place(x=497,y=210)\n",
    "\n",
    "\n",
    "\n",
    "\n",
    "ingr_dnv_new_psw=ctk.CTkLabel(ventana_olv_psw,text=\"Repítalo (paso 2):\",font=(\"Ubuntu\",30))\n",
    "ingr_dnv_new_psw.place(x=42,y=300)\n",
    "ingr_dnv_new_psw_text=ctk.CTkEntry(ventana_olv_psw,font=(\"Ubuntu\",23),width=200)\n",
    "ingr_dnv_new_psw_text.place(x=289,y=300)\n",
    "\n",
    "tash1=ctk.CTkButton(ventana_olv_psw,image=tash_ctk,text=\"\",width=40,fg_color=\"#242424\",hover_color=\"#a5a4a4\",command=Limpiar_RPT_NEW_PSW)\n",
    "tash1.place(x=497,y=300)\n",
    "\n",
    "\n",
    "\n",
    "img_confirmar=Image.open(\"icon_confirma.png\")\n",
    "confimar_ctk=ctk.CTkImage(dark_image=img_confirmar,size=(40,40))\n",
    "confimar=ctk.CTkButton(ventana_olv_psw,text=\"Confirmar\",font=(\"Ubuntu\",19),image=confimar_ctk,fg_color=\"#242424\",hover_color=\"#a5a4a4\")\n",
    "confimar.place(x=223,y=385)\n",
    "\n",
    "img_regresar=Image.open(\"back.png\")\n",
    "regresar_ctk=ctk.CTkImage(dark_image=img_regresar,size=(40,40))\n",
    "regresar=ctk.CTkButton(ventana_olv_psw,text=\"Regresar\",image=regresar_ctk,font=(\"Ubuntu\",19),fg_color=\"#242424\",hover_color=\"#a5a4a4\")\n",
    "regresar.place(x=222,y=470)\n",
    "\n",
    "\n",
    "\n",
    "\n",
    "\n",
    "ventana_olv_psw.mainloop()"
   ]
  }
 ],
 "metadata": {
  "kernelspec": {
   "display_name": "Python 3",
   "language": "python",
   "name": "python3"
  },
  "language_info": {
   "codemirror_mode": {
    "name": "ipython",
    "version": 3
   },
   "file_extension": ".py",
   "mimetype": "text/x-python",
   "name": "python",
   "nbconvert_exporter": "python",
   "pygments_lexer": "ipython3",
   "version": "3.13.3"
  }
 },
 "nbformat": 4,
 "nbformat_minor": 5
}
