{
 "cells": [
  {
   "cell_type": "code",
   "execution_count": 1,
   "id": "f0f01095",
   "metadata": {},
   "outputs": [
    {
     "ename": "ModuleNotFoundError",
     "evalue": "No module named 'pymongo'",
     "output_type": "error",
     "traceback": [
      "\u001b[31m---------------------------------------------------------------------------\u001b[39m",
      "\u001b[31mModuleNotFoundError\u001b[39m                       Traceback (most recent call last)",
      "\u001b[36mCell\u001b[39m\u001b[36m \u001b[39m\u001b[32mIn[1]\u001b[39m\u001b[32m, line 1\u001b[39m\n\u001b[32m----> \u001b[39m\u001b[32m1\u001b[39m \u001b[38;5;28;01mimport\u001b[39;00m\u001b[38;5;250m \u001b[39m\u001b[34;01mpymongo\u001b[39;00m\n\u001b[32m      2\u001b[39m \u001b[38;5;28;01mimport\u001b[39;00m\u001b[38;5;250m \u001b[39m\u001b[34;01mpymongo\u001b[39;00m\u001b[34;01m.\u001b[39;00m\u001b[34;01merrors\u001b[39;00m\n\u001b[32m      4\u001b[39m MONGO_HOST=\u001b[33m\"\u001b[39m\u001b[33mlocalhost\u001b[39m\u001b[33m\"\u001b[39m\n",
      "\u001b[31mModuleNotFoundError\u001b[39m: No module named 'pymongo'"
     ]
    }
   ],
   "source": [
    "import pymongo\n",
    "import pymongo.errors\n",
    "\n",
    "MONGO_HOST=\"localhost\"\n",
    "PUERTO=\"27017\"\n",
    "TIEMPO_ESPERA=1000\n",
    "MONGO_URI=\"mongodb://\"+MONGO_HOST+\":\"+PUERTO+\"/\"\n",
    "\n",
    "\n",
    "try:\n",
    "    cliente=pymongo.MongoClient(MONGO_URI,serverSelectionTimeoutMS=TIEMPO_ESPERA)\n",
    "    cliente.server_info()\n",
    "    print(\"Conexión exitosa\")\n",
    "    cliente.close()\n",
    "except pymongo.errors.ServerSelectionTimeoutError as error:\n",
    "    print(\"Tiempo exedido \"+error)\n",
    "except pymongo.errors.ConnectionFailure as error2:\n",
    "    print(\"Fallo al conectarse a mongodb\"+error2)\n"
   ]
  }
 ],
 "metadata": {
  "kernelspec": {
   "display_name": "Python 3",
   "language": "python",
   "name": "python3"
  },
  "language_info": {
   "codemirror_mode": {
    "name": "ipython",
    "version": 3
   },
   "file_extension": ".py",
   "mimetype": "text/x-python",
   "name": "python",
   "nbconvert_exporter": "python",
   "pygments_lexer": "ipython3",
   "version": "3.13.3"
  }
 },
 "nbformat": 4,
 "nbformat_minor": 5
}
